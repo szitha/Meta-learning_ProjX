{
 "cells": [
  {
   "cell_type": "markdown",
   "metadata": {},
   "source": [
    "### Model"
   ]
  },
  {
   "cell_type": "code",
   "execution_count": 5,
   "metadata": {},
   "outputs": [],
   "source": [
    "import torch\n",
    "import torch.nn as nn\n",
    "import torch.nn.init as init\n",
    "import torch.nn.functional as F\n",
    "import torch.optim as optim\n",
    "from torchvision import datasets, transforms\n",
    "from torch.utils.data import Dataset, DataLoader\n",
    "\n",
    "import os\n",
    "import random\n",
    "import matplotlib.pyplot as plt\n",
    "import numpy as np\n",
    "import cv2\n",
    "\n",
    "from skimage import io\n",
    "from tqdm import tqdm\n",
    "from time import sleep\n",
    "from collections import OrderedDict\n",
    "from more_itertools import chunked\n",
    "from PIL import Image"
   ]
  },
  {
   "cell_type": "code",
   "execution_count": 6,
   "metadata": {},
   "outputs": [],
   "source": [
    "n_shot = 1\n",
    "n_class = 5\n",
    "n_local_update = 5\n",
    "batch_size = n_class\n",
    "\n",
    "device = 'cuda' if torch.cuda.is_available() else 'cpu'\n",
    "\n",
    "\n",
    "class OmniglotNet(nn.Module):\n",
    "    def __init__(self, n_class):\n",
    "        super(OmniglotNet, self).__init__()\n",
    "        \n",
    "        self.h=64\n",
    "        self.conv1 = nn.Conv2d(1, self.h, kernel_size=3)\n",
    "        self.conv2 = nn.Conv2d(self.h, self.h, kernel_size=3)\n",
    "        self.conv3 = nn.Conv2d(self.h, self.h, kernel_size=3)\n",
    "        self.bn1 = nn.BatchNorm2d(self.h, momentum=1, affine=True)\n",
    "        self.bn2 = nn.BatchNorm2d(self.h, momentum=1, affine=True)\n",
    "        self.bn3 = nn.BatchNorm2d(self.h, momentum=1, affine=True)\n",
    "        self.fc = nn.Linear(self.h, n_class)\n",
    "        \n",
    "        # no init version -> HASH:ef56239\n",
    "        init.xavier_normal_(self.conv1.weight)\n",
    "        init.constant_(self.conv1.bias, 0)\n",
    "        init.xavier_normal_(self.conv2.weight)\n",
    "        init.constant_(self.conv2.bias, 0)\n",
    "        init.xavier_normal_(self.conv3.weight)\n",
    "        init.constant_(self.conv3.bias, 0)\n",
    "        \n",
    "        init.constant_(self.bn1.weight, 1)\n",
    "        init.constant_(self.bn1.bias, 0)\n",
    "        init.constant_(self.bn2.weight, 1)\n",
    "        init.constant_(self.bn2.bias, 0)\n",
    "        init.constant_(self.bn3.weight, 1)\n",
    "        init.constant_(self.bn3.bias, 0)\n",
    "        \n",
    "        init.normal_(self.fc.weight, 0, 0.01)\n",
    "        init.constant_(self.fc.bias, 1) \n",
    "        \n",
    "    def forward(self, x):\n",
    "        \n",
    "        x = F.max_pool2d(F.relu(self.bn1(self.conv1(x))), 2)\n",
    "        x = F.max_pool2d(F.relu(self.bn2(self.conv2(x))), 2)\n",
    "        x = F.max_pool2d(F.relu(self.bn3(self.conv3(x))), 2)\n",
    "        x = x.view(x.size(0), self.h)\n",
    "        x = self.fc(x)\n",
    "        x = F.log_softmax(x, dim=1)\n",
    "        \n",
    "        return x\n",
    "\n",
    "    # for MAML local optimization\n",
    "    def manual_forward(self, x, params):\n",
    "        \n",
    "        x = F.conv2d(x, params['conv1.weight'].to(device), params['conv1.bias'].to(device))\n",
    "        dumy = torch.ones(np.prod(np.array(x.data.size()[1]))).cuda()*999999999999999999 # momentnum=1\n",
    "        x = F.batch_norm(x, dumy, dumy, params['bn1.weight'], params['bn1.bias'], True, momentum=1)\n",
    "        x = F.max_pool2d(F.relu(x), 2)\n",
    "        \n",
    "        x = F.conv2d(x, params['conv2.weight'].to(device), params['conv2.bias'].to(device))\n",
    "        dumy = torch.ones(np.prod(np.array(x.data.size()[1]))).cuda()*999999999999999999 # momentnum=1\n",
    "        x = F.batch_norm(x, dumy, dumy, params['bn2.weight'], params['bn2.bias'], True, momentum=1)\n",
    "        x = F.max_pool2d(F.relu(x), 2)\n",
    "        \n",
    "        x = F.conv2d(x, params['conv3.weight'].to(device), params['conv3.bias'].to(device))\n",
    "        dumy = torch.ones(np.prod(np.array(x.data.size()[1]))).cuda()*999999999999999999 # momentnum=1\n",
    "        x = F.batch_norm(x, dumy, dumy, params['bn3.weight'], params['bn3.bias'], True, momentum=1)\n",
    "        x = F.max_pool2d(F.relu(x), 2)\n",
    "        \n",
    "        x = x.view(x.size(0), self.h)\n",
    "        x = F.linear(x, params['fc.weight'].to(device), params['fc.bias'].to(device))\n",
    "        x = F.log_softmax(x, dim=1)\n",
    "        \n",
    "        return x\n",
    "    \n",
    "    \n",
    "def train(model, device, train_data_loader, optimizer, epoch):\n",
    "    model.train()\n",
    "    train_loss = 0\n",
    "    train_acc = 0\n",
    "    \n",
    "    for data, target in train_data_loader:\n",
    "        data, target = data.to(device), target.to(device)\n",
    "        output = model(data)\n",
    "        loss = F.nll_loss(output, target)\n",
    "        pred = output.max(1, keepdim=True)[1]\n",
    "\n",
    "        optimizer.zero_grad()\n",
    "        loss.backward()\n",
    "        optimizer.step()\n",
    "        \n",
    "        train_loss += loss.item()\n",
    "        train_acc += pred.eq(target.view_as(pred)).sum().item()\n",
    "    \n",
    "    train_loss /= len(train_data_loader.dataset)\n",
    "    train_acc /= len(train_data_loader.dataset)\n",
    "    return train_loss, train_acc\n",
    "\n",
    "def test(model, device, test_data_loader):\n",
    "    model.eval()\n",
    "    test_loss = 0\n",
    "    test_acc = 0\n",
    "    \n",
    "    with torch.no_grad():\n",
    "        for data, target in test_data_loader:\n",
    "            data, target = data.to(device), target.to(device)\n",
    "            output = model(data)\n",
    "            loss = F.nll_loss(output, target, reduction='sum').item() # sum up batch loss\n",
    "            pred = output.max(1, keepdim=True)[1]\n",
    "            \n",
    "            test_loss += loss\n",
    "            test_acc += pred.eq(target.view_as(pred)).sum().item()\n",
    "\n",
    "    test_loss /= len(test_data_loader.dataset)\n",
    "    test_acc /= len(test_data_loader.dataset)\n",
    "    return test_loss, test_acc"
   ]
  },
  {
   "cell_type": "markdown",
   "metadata": {},
   "source": [
    "### Data processing for troubleshooting"
   ]
  },
  {
   "cell_type": "code",
   "execution_count": 7,
   "metadata": {},
   "outputs": [],
   "source": [
    "\"\"\"Dataset: For outerloop\"\"\"\n",
    "class OmniglotOriginDataset(Dataset):\n",
    "    def __init__(self, path_to_lang, n_class, train, train_index, transform):\n",
    "\n",
    "        self.data = []\n",
    "        self.path = path_to_lang\n",
    "        \n",
    "        labels = sorted(os.listdir(path_to_lang))[:n_class]\n",
    "        \n",
    "        for label_i, label in enumerate(labels):\n",
    "            path_to_label = os.path.join(path_to_lang, label)\n",
    "            chars = np.array(sorted(os.listdir(path_to_label)))\n",
    "            if train:\n",
    "                chars = chars[train_index]\n",
    "            else:\n",
    "                test_index = list(set(np.arange(20)) - set(train_index)) # omniglot has 20 images per character\n",
    "                chars = chars[test_index]\n",
    "            for char in chars:\n",
    "                path_to_char = os.path.join(path_to_label, char)\n",
    "                image = io.imread(path_to_char)\n",
    "                label_i = np.array(label_i)\n",
    "                self.data.append([image, label_i])\n",
    "            \n",
    "        self.transform = transform\n",
    " \n",
    "    def __len__(self):\n",
    "        return len(self.data)\n",
    " \n",
    "    def __getitem__(self, idx):\n",
    "        return self.transform(self.data[idx])\n",
    "\n",
    "class ToTensor(object):\n",
    "    def __call__(self, sample):\n",
    "        image, label = sample[0], sample[1]\n",
    "        image = image / 255\n",
    "        image = (image-0.92208)/0.25140\n",
    "        image = image.reshape([28,28, 1])\n",
    "        image = image.transpose((2, 0, 1))\n",
    "        image = np.array(image, np.float32)\n",
    "\n",
    "        return [torch.from_numpy(image), torch.from_numpy(label)]"
   ]
  },
  {
   "cell_type": "code",
   "execution_count": 8,
   "metadata": {},
   "outputs": [],
   "source": [
    "\"\"\"AugmentedDataset: For innerloop\"\"\"\n",
    "class OmniglotAugmentedDataset(Dataset):\n",
    "    def __init__(self, path_to_chars, train, train_indices, transform):\n",
    "\n",
    "        self.data = []\n",
    "        self.path = NotImplementedError\n",
    "        \n",
    "        for label_i, (path_to_label, train_index) in enumerate(zip(path_to_chars, train_indices)):\n",
    "            chars = np.array(sorted(os.listdir(path_to_label)))\n",
    "            if train:\n",
    "                chars = chars[train_index]\n",
    "            else:\n",
    "                test_index = list(set(np.arange(20)) - set(train_index)) # omniglot has 20 images per character\n",
    "                chars = chars[test_index]\n",
    "                \n",
    "                \n",
    "            #Replace with chelsea implementation     \n",
    "            for char in chars:\n",
    "                path_to_char = os.path.join(path_to_label, char)\n",
    "                image = io.imread(path_to_char)\n",
    "                label_i = np.array(label_i)\n",
    "                self.data.append([image, label_i])\n",
    "            \n",
    "                \n",
    "        self.transform = transform\n",
    " \n",
    "    def __len__(self):\n",
    "        return len(self.data)\n",
    " \n",
    "    def __getitem__(self, idx):\n",
    "        return self.transform(self.data[idx])\n",
    "\n",
    "class ToTensor(object):\n",
    "    def __call__(self, sample):\n",
    "        image, label = sample[0], sample[1]\n",
    "        image = image / 255\n",
    "        image = (image-0.92208)/0.25140\n",
    "        image = image.reshape([28,28, 1])\n",
    "        image = image.transpose((2, 0, 1))\n",
    "        image = np.array(image, np.float32)\n",
    "\n",
    "        return [torch.from_numpy(image), torch.from_numpy(label)]"
   ]
  },
  {
   "cell_type": "code",
   "execution_count": 9,
   "metadata": {},
   "outputs": [
    {
     "name": "stdout",
     "output_type": "stream",
     "text": [
      "local_task_train_data\n",
      "../data/omniglot_mini/images_background/Latin/\n"
     ]
    },
    {
     "data": {
      "image/png": "[encoded data removed]",
      "text/plain": [
       "<Figure size 720x72 with 5 Axes>"
      ]
     },
     "metadata": {
      "needs_background": "light"
     },
     "output_type": "display_data"
    },
    {
     "name": "stdout",
     "output_type": "stream",
     "text": [
      "y_true: tensor([1, 0, 3, 4, 2])\n",
      "\n",
      "local_task_test_data\n"
     ]
    },
    {
     "data": {
      "image/png": "[encoded data removed]",
      "text/plain": [
       "<Figure size 720x72 with 5 Axes>"
      ]
     },
     "metadata": {
      "needs_background": "light"
     },
     "output_type": "display_data"
    },
    {
     "name": "stdout",
     "output_type": "stream",
     "text": [
      "y_true: tensor([3, 1, 2, 3, 1])\n"
     ]
    }
   ],
   "source": [
    "\"\"\"DataLoader Test\"\"\"\n",
    "local_task_train_data_loader = DataLoader(\n",
    "    OmniglotOriginDataset(\"../data/omniglot_mini/images_background/Latin/\", \n",
    "                    n_class=n_class,\n",
    "                    train=True,\n",
    "                    train_index=[0],\n",
    "                    transform=transforms.Compose([\n",
    "                        ToTensor(),\n",
    "                    ])),\n",
    "    batch_size=batch_size, shuffle=True)\n",
    "\n",
    "print(\"local_task_train_data\")\n",
    "print(local_task_train_data_loader.dataset.path)\n",
    "\n",
    "for data, target in local_task_train_data_loader: # only have one batch\n",
    "    plt.figure(figsize=(10,1))\n",
    "    for i, x in enumerate(data):\n",
    "        plt.subplot(1, batch_size, i+1); plt.imshow(x[0])\n",
    "    plt.show()\n",
    "    print(\"y_true:\", target)\n",
    "    \n",
    "print(\"\\nlocal_task_test_data\")\n",
    "local_task_test_data_loader = DataLoader(\n",
    "    OmniglotOriginDataset(\"../data/omniglot_mini/images_background/Latin/\", \n",
    "                    n_class=n_class,\n",
    "                    train=False,\n",
    "                    train_index=[0],\n",
    "                    transform=transforms.Compose([\n",
    "                        ToTensor(),\n",
    "                    ])),\n",
    "    batch_size=batch_size, shuffle=True)\n",
    "\n",
    "for data, target in local_task_test_data_loader: # only have one batch\n",
    "    plt.figure(figsize=(10,1))\n",
    "    for i, x in enumerate(data):\n",
    "        plt.subplot(1, batch_size, i+1); plt.imshow(x[0])\n",
    "    plt.show()\n",
    "    print(\"y_true:\", target)\n",
    "    break\n"
   ]
  },
  {
   "cell_type": "code",
   "execution_count": 10,
   "metadata": {},
   "outputs": [
    {
     "name": "stdout",
     "output_type": "stream",
     "text": [
      "local_task_train_data\n",
      "y_true: tensor([2, 3, 1, 0, 4])\n",
      "\n",
      "local_task_test_data\n",
      "y_true: tensor([0, 3, 2, 1, 1])\n"
     ]
    },
    {
     "data": {
      "image/png": "[encoded data removed]",
      "text/plain": [
       "<Figure size 720x72 with 5 Axes>"
      ]
     },
     "metadata": {
      "needs_background": "light"
     },
     "output_type": "display_data"
    },
    {
     "data": {
      "image/png": "[encoded data removed]",
      "text/plain": [
       "<Figure size 720x72 with 5 Axes>"
      ]
     },
     "metadata": {
      "needs_background": "light"
     },
     "output_type": "display_data"
    }
   ],
   "source": [
    "\"\"\"AugmentDataLoader Test\"\"\"\n",
    "train_indices = np.random.randint(20, size=(n_class, n_shot))\n",
    "\n",
    "path_to_chars = [\n",
    "    '../data/omniglot_mini/images_background/Early_Aramaic/character08',\n",
    "    '../data/omniglot_mini/images_background/N_Ko/character05',\n",
    "    '../data/omniglot_mini/images_background/Early_Aramaic/character01',\n",
    "    '../data/omniglot_mini/images_background/Balinese/character04',\n",
    "    '../data/omniglot_mini/images_background/Burmese_(Myanmar)/character21',\n",
    "    '../data/omniglot_mini/images_background/Balinese/character03',\n",
    "    '../data/omniglot_mini/images_background/Gujarati/character35',\n",
    "    '../data/omniglot_mini/images_background/Bengali/character10',\n",
    "    '../data/omniglot_mini/images_background/Burmese_(Myanmar)/character18',\n",
    "    '../data/omniglot_mini/images_background/Armenian/character17'\n",
    "]\n",
    "\n",
    "print(\"local_task_train_data\")\n",
    "local_task_train_data_loader = DataLoader(\n",
    "    OmniglotAugmentedDataset(path_to_chars,\n",
    "                    train=True,\n",
    "                    train_indices=train_indices,\n",
    "                    transform=transforms.Compose([\n",
    "                        ToTensor(),\n",
    "                    ])),\n",
    "    batch_size=batch_size, shuffle=True)\n",
    "\n",
    "for data, target in local_task_train_data_loader: # only have one batch\n",
    "    plt.figure(figsize=(10,1))\n",
    "    for i, x in enumerate(data):\n",
    "        plt.subplot(1, batch_size, i+1); plt.imshow(x[0])\n",
    "    #plt.show()\n",
    "    print(\"y_true:\", target)\n",
    "\n",
    "print(\"\\nlocal_task_test_data\")\n",
    "local_task_test_data_loader = DataLoader(\n",
    "    OmniglotAugmentedDataset(path_to_chars,\n",
    "                    train=False,\n",
    "                    train_indices=train_indices,\n",
    "                    transform=transforms.Compose([\n",
    "                        ToTensor(),\n",
    "                    ])),\n",
    "    batch_size=batch_size, shuffle=True)\n",
    "\n",
    "for data, target in local_task_test_data_loader: # only have one batch\n",
    "    plt.figure(figsize=(10,1))\n",
    "    for i, x in enumerate(data):\n",
    "        plt.subplot(1, batch_size, i+1); plt.imshow(x[0])\n",
    "    #plt.show()\n",
    "    print(\"y_true:\", target)\n",
    "    break\n"
   ]
  },
  {
   "cell_type": "markdown",
   "metadata": {},
   "source": [
    "### Lets (fit , task=Latin, n_class=10, n_shot=1)"
   ]
  },
  {
   "cell_type": "code",
   "execution_count": 16,
   "metadata": {},
   "outputs": [
    {
     "data": {
      "text/plain": [
       "'\\nlocal_task_train_data_loader = DataLoader(\\n    OmniglotOriginDataset(\"../data/omniglot_mini/images_background/Latin/\", \\n                    n_class=n_class,\\n                    train=True,\\n                    train_index=[0],\\n                    transform=transforms.Compose([\\n                        ToTensor()\\n                    ])),\\n    batch_size=batch_size, shuffle=True)\\n\\n\\nlocal_task_test_data_loader = DataLoader(\\n    OmniglotOriginDataset(\"../data/omniglot_mini/images_background/Latin/\", \\n                    n_class=n_class,\\n                    train=False,\\n                    train_index=[0],\\n                    transform=transforms.Compose([\\n                        ToTensor()\\n                    ])),\\n    batch_size=batch_size, shuffle=True)\\n\\nmodel = OmniglotNet(n_class=10).to(device)\\noptimizer = optim.SGD(model.parameters(), lr=0.01, momentum=0.5)\\n\\nwith tqdm(range(10)) as _tqdm:\\n    for epoch in _tqdm:\\n        train_loss, train_acc = train(model, device, local_task_train_data_loader, optimizer, epoch)\\n        test_loss, test_acc = test(model, device, local_task_test_data_loader)\\n        _tqdm.set_postfix(OrderedDict(\\n            epoch=epoch+1, \\n            train_loss=train_loss, train_acc=train_acc, \\n            test_loss=test_loss, test_acc=test_acc))\\n        \\n\\ndata, target = local_task_train_data_loader.__iter__().next()\\n\\nimages = np.array(data).reshape(10,28,28)\\nplt.figure(figsize=(10,1))\\n[[plt.subplot(1,10,i+1), plt.imshow(img)] for i, img in enumerate(images)]; plt.show()\\n\\nprint(\"y_pred:\", torch.argmax(model(data.cuda()), 1).cpu())\\nprint(\"y_true:\", target)\\n'"
      ]
     },
     "execution_count": 16,
     "metadata": {},
     "output_type": "execute_result"
    }
   ],
   "source": [
    "\"\"\"\n",
    "local_task_train_data_loader = DataLoader(\n",
    "    OmniglotOriginDataset(\"../data/omniglot_mini/images_background/Latin/\", \n",
    "                    n_class=n_class,\n",
    "                    train=True,\n",
    "                    train_index=[0],\n",
    "                    transform=transforms.Compose([\n",
    "                        ToTensor()\n",
    "                    ])),\n",
    "    batch_size=batch_size, shuffle=True)\n",
    "\n",
    "\n",
    "local_task_test_data_loader = DataLoader(\n",
    "    OmniglotOriginDataset(\"../data/omniglot_mini/images_background/Latin/\", \n",
    "                    n_class=n_class,\n",
    "                    train=False,\n",
    "                    train_index=[0],\n",
    "                    transform=transforms.Compose([\n",
    "                        ToTensor()\n",
    "                    ])),\n",
    "    batch_size=batch_size, shuffle=True)\n",
    "\n",
    "model = OmniglotNet(n_class=10).to(device)\n",
    "optimizer = optim.SGD(model.parameters(), lr=0.01, momentum=0.5)\n",
    "\n",
    "with tqdm(range(10)) as _tqdm:\n",
    "    for epoch in _tqdm:\n",
    "        train_loss, train_acc = train(model, device, local_task_train_data_loader, optimizer, epoch)\n",
    "        test_loss, test_acc = test(model, device, local_task_test_data_loader)\n",
    "        _tqdm.set_postfix(OrderedDict(\n",
    "            epoch=epoch+1, \n",
    "            train_loss=train_loss, train_acc=train_acc, \n",
    "            test_loss=test_loss, test_acc=test_acc))\n",
    "        \n",
    "\n",
    "data, target = local_task_train_data_loader.__iter__().next()\n",
    "\n",
    "images = np.array(data).reshape(10,28,28)\n",
    "plt.figure(figsize=(10,1))\n",
    "[[plt.subplot(1,10,i+1), plt.imshow(img)] for i, img in enumerate(images)]; plt.show()\n",
    "\n",
    "print(\"y_pred:\", torch.argmax(model(data.cuda()), 1).cpu())\n",
    "print(\"y_true:\", target)\n",
    "\"\"\""
   ]
  },
  {
   "cell_type": "markdown",
   "metadata": {},
   "source": [
    "### Loading tasks: Taskset and TaskLoader classes"
   ]
  },
  {
   "cell_type": "code",
   "execution_count": 11,
   "metadata": {},
   "outputs": [],
   "source": [
    "class Taskset(object):\n",
    "    def __getitem__(self, index):\n",
    "        raise NotImplementedError\n",
    "    def __len__(self):\n",
    "        raise NotImplementedError\n",
    "\n",
    "class TaskLoader(object):\n",
    "    def __init__(self, taskset, shuffle=True):\n",
    "        self.taskset = taskset\n",
    "        self.sample_iter = iter(np.random.permutation(np.arange(len(taskset))))\n",
    "    def __iter__(self):\n",
    "        return self\n",
    "    def __next__(self):\n",
    "        return self.taskset[next(self.sample_iter)]\n",
    "    def __len__(self):\n",
    "        return len(self.taskset)"
   ]
  },
  {
   "cell_type": "code",
   "execution_count": 12,
   "metadata": {},
   "outputs": [],
   "source": [
    "\"\"\"OmniglotOriginTaskset: For outerloop\"\"\"\n",
    "class OmniglotOriginTaskset(Taskset):\n",
    "    def __init__(self, path_to_omniglot, n_class, n_shot, meta_train):\n",
    "        \n",
    "        if meta_train:\n",
    "            path_to_langs = os.path.join(path_to_omniglot, \"images_background/\")\n",
    "        else:\n",
    "            path_to_langs = os.path.join(path_to_omniglot, \"images_evaluation/\")\n",
    "        \n",
    "        langs = sorted(os.listdir(path_to_langs))\n",
    "        tasks = [os.path.join(path_to_langs, lang) for lang in langs]\n",
    "        tasks = [task for task in tasks if len(os.listdir(task))>=n_class]\n",
    "        self.tasks = tasks\n",
    "    \n",
    "    def __len__(self):\n",
    "        return len(self.tasks)\n",
    "    \n",
    "    def __getitem__(self, idx):\n",
    "        train_index=[np.random.randint(20)] #TODO chanege indices\n",
    "        return {\"train\":\n",
    "                DataLoader(\n",
    "                    OmniglotOriginDataset(self.tasks[idx], \n",
    "                                    n_class=n_class,\n",
    "                                    train=True,\n",
    "                                    train_index=train_index,\n",
    "                                    transform=transforms.Compose([\n",
    "                                        ToTensor()\n",
    "                                    ])),\n",
    "                    batch_size=batch_size, shuffle=True), \n",
    "                \"test\":\n",
    "                DataLoader(\n",
    "                    OmniglotOriginDataset(self.tasks[idx],\n",
    "                                    n_class=n_class,\n",
    "                                    train=False,\n",
    "                                    train_index=train_index,\n",
    "                                    transform=transforms.Compose([\n",
    "                                        ToTensor()\n",
    "                                    ])),\n",
    "                    batch_size=batch_size, shuffle=True),\n",
    "                \"task\": self.tasks[idx] \n",
    "               }"
   ]
  },
  {
   "cell_type": "code",
   "execution_count": 13,
   "metadata": {},
   "outputs": [],
   "source": [
    "\"\"\"AugmentedTaskset: For innerloop\"\"\"\n",
    "class OmniglotAugmentedTaskset(Taskset):\n",
    "    def __init__(self, path_to_omniglot, n_class, n_shot, meta_train):\n",
    "        \n",
    "        if meta_train:\n",
    "            path_to_langs = os.path.join(path_to_omniglot, \"images_background/\")\n",
    "        else:\n",
    "            path_to_langs = os.path.join(path_to_omniglot, \"images_evaluation/\")\n",
    "            \n",
    "        chars = []\n",
    "        \n",
    "        for path_to_lang in os.listdir(path_to_langs):\n",
    "            path_to_chars = os.path.join(path_to_langs, path_to_lang)\n",
    "            for path_to_char in os.listdir(path_to_chars):\n",
    "                chars.append(os.path.join(path_to_chars, path_to_char)) \n",
    "        \n",
    "        random.shuffle(chars)\n",
    "        tasks = list(chunked(chars, n_class))[:-1] # drop_last\n",
    "        \n",
    "        self.tasks = tasks\n",
    "    \n",
    "    def __len__(self):\n",
    "        return len(self.tasks)\n",
    "    \n",
    "    def __getitem__(self, idx):\n",
    "        train_indices = np.random.randint(20, size=(n_class, n_shot))\n",
    "        return {\"train\":\n",
    "                DataLoader(\n",
    "                    OmniglotAugmentedDataset(self.tasks[idx],\n",
    "                                    train=True,\n",
    "                                    train_indices=train_indices,\n",
    "                                    transform=transforms.Compose([\n",
    "                                        ToTensor()\n",
    "                                    ])),\n",
    "                    batch_size=batch_size, shuffle=True), \n",
    "                \"test\":\n",
    "                DataLoader(\n",
    "                    OmniglotAugmentedDataset(self.tasks[idx],\n",
    "                                    train=False,\n",
    "                                    train_indices=train_indices,\n",
    "                                    transform=transforms.Compose([\n",
    "                                        ToTensor()\n",
    "                                    ])),\n",
    "                    batch_size=batch_size, shuffle=True),\n",
    "                \"task\": self.tasks[idx] \n",
    "               }"
   ]
  },
  {
   "cell_type": "code",
   "execution_count": 14,
   "metadata": {},
   "outputs": [
    {
     "name": "stdout",
     "output_type": "stream",
     "text": [
      "30\n",
      "../data/omniglot_mini/images_background/Sanskrit\n",
      "train\n"
     ]
    },
    {
     "data": {
      "image/png": "[encoded data removed]",
      "text/plain": [
       "<Figure size 720x72 with 5 Axes>"
      ]
     },
     "metadata": {
      "needs_background": "light"
     },
     "output_type": "display_data"
    },
    {
     "name": "stdout",
     "output_type": "stream",
     "text": [
      "tensor([0, 1, 4, 2, 3])\n",
      "test\n"
     ]
    },
    {
     "data": {
      "image/png": "[encoded data removed]",
      "text/plain": [
       "<Figure size 720x72 with 5 Axes>"
      ]
     },
     "metadata": {
      "needs_background": "light"
     },
     "output_type": "display_data"
    },
    {
     "name": "stdout",
     "output_type": "stream",
     "text": [
      "tensor([3, 0, 3, 0, 3])\n",
      "../data/omniglot_mini/images_background/Korean\n",
      "train\n"
     ]
    },
    {
     "data": {
      "image/png": "[encoded data removed]",
      "text/plain": [
       "<Figure size 720x72 with 5 Axes>"
      ]
     },
     "metadata": {
      "needs_background": "light"
     },
     "output_type": "display_data"
    },
    {
     "name": "stdout",
     "output_type": "stream",
     "text": [
      "tensor([0, 3, 2, 4, 1])\n",
      "test\n"
     ]
    },
    {
     "data": {
      "image/png": "[encoded data removed]",
      "text/plain": [
       "<Figure size 720x72 with 5 Axes>"
      ]
     },
     "metadata": {
      "needs_background": "light"
     },
     "output_type": "display_data"
    },
    {
     "name": "stdout",
     "output_type": "stream",
     "text": [
      "tensor([1, 3, 4, 1, 0])\n"
     ]
    }
   ],
   "source": [
    "\"\"\"TaskLoader: Outerloop\"\"\"\n",
    "meta_train_task_loader = TaskLoader(\n",
    "    OmniglotOriginTaskset(\"../data/omniglot_mini/\", meta_train=True, n_class=n_class, n_shot=n_shot)\n",
    ")\n",
    "\n",
    "print(len(meta_train_task_loader.taskset))\n",
    "\n",
    "for i, meta_train_task in enumerate(meta_train_task_loader):\n",
    "    print(meta_train_task[\"task\"])\n",
    "    print(\"train\")\n",
    "    local_task_train_data_loader = meta_train_task[\"train\"]\n",
    "    for data, target in local_task_train_data_loader:\n",
    "        plt.figure(figsize=(10,1))\n",
    "        for j, x in enumerate(data):\n",
    "            plt.subplot(1, batch_size, j+1); plt.imshow(x[0])\n",
    "        plt.show()\n",
    "        print(target)\n",
    "    print(\"test\")\n",
    "    local_task_train_data_loader = meta_train_task[\"test\"]\n",
    "    for data, target in local_task_train_data_loader:\n",
    "        plt.figure(figsize=(10,1))\n",
    "        for j, x in enumerate(data):\n",
    "            plt.subplot(1, batch_size, j+1); plt.imshow(x[0])\n",
    "        plt.show()\n",
    "        print(target)\n",
    "        break\n",
    "    if i==1:\n",
    "        break"
   ]
  },
  {
   "cell_type": "code",
   "execution_count": 15,
   "metadata": {
    "scrolled": false
   },
   "outputs": [
    {
     "name": "stdout",
     "output_type": "stream",
     "text": [
      "192\n",
      "['../data/omniglot_mini/images_background/Futurama/character07', '../data/omniglot_mini/images_background/Inuktitut_(Canadian_Aboriginal_Syllabics)/character04', '../data/omniglot_mini/images_background/Tagalog/character03', '../data/omniglot_mini/images_background/Braille/character15', '../data/omniglot_mini/images_background/Japanese_(katakana)/character37']\n",
      "train\n",
      "tensor([4, 2, 1, 3, 0])\n",
      "test\n",
      "tensor([2, 2, 2, 4, 3])\n"
     ]
    },
    {
     "data": {
      "image/png": "[encoded data removed]",
      "text/plain": [
       "<Figure size 720x72 with 5 Axes>"
      ]
     },
     "metadata": {
      "needs_background": "light"
     },
     "output_type": "display_data"
    },
    {
     "data": {
      "image/png": "[encoded data removed]",
      "text/plain": [
       "<Figure size 720x72 with 5 Axes>"
      ]
     },
     "metadata": {
      "needs_background": "light"
     },
     "output_type": "display_data"
    }
   ],
   "source": [
    "\"\"\"AugmentTaskLoader: Innerloop\"\"\"\n",
    "meta_train_task_loader = TaskLoader(\n",
    "    OmniglotAugmentedTaskset(\"../data/omniglot_mini/\", meta_train=True, n_class=n_class, n_shot=n_shot)\n",
    ")\n",
    "\n",
    "print(len(meta_train_task_loader.taskset))\n",
    "\n",
    "for i, meta_train_task in enumerate(meta_train_task_loader):\n",
    "    print(meta_train_task[\"task\"])\n",
    "    print(\"train\")\n",
    "    local_task_train_data_loader = meta_train_task[\"train\"]\n",
    "    for data, target in local_task_train_data_loader:\n",
    "        plt.figure(figsize=(10,1))\n",
    "        for j, x in enumerate(data):\n",
    "            plt.subplot(1, batch_size, j+1); plt.imshow(x[0])\n",
    "        #plt.show()\n",
    "        print(target)\n",
    "    print(\"test\")\n",
    "    local_task_test_data_loader = meta_train_task[\"test\"]\n",
    "    for data, target in local_task_test_data_loader:\n",
    "        plt.figure(figsize=(10,1))\n",
    "        for j, x in enumerate(data):\n",
    "            plt.subplot(1, batch_size, j+1); plt.imshow(x[0])\n",
    "        #plt.show()\n",
    "        print(target)\n",
    "        break\n",
    "    break"
   ]
  },
  {
   "cell_type": "markdown",
   "metadata": {},
   "source": [
    "---"
   ]
  },
  {
   "cell_type": "markdown",
   "metadata": {},
   "source": [
    "# MAML"
   ]
  },
  {
   "cell_type": "code",
   "execution_count": 8,
   "metadata": {},
   "outputs": [],
   "source": [
    "class MetaLearner(object):\n",
    "    def __init__(self):\n",
    "        self.lr = 0.1\n",
    "        self.momentum = 0.5\n",
    "        self.device = 'cuda' if torch.cuda.is_available() else 'cpu'\n",
    "        self.master_net = OmniglotNet(n_class).to(self.device)\n",
    "        self.master_opt = optim.Adam(self.master_net.parameters(), lr=0.001)\n",
    "        self.keys = self.master_net.state_dict().keys()\n",
    "    \n",
    "    def copy_params(self, from_net, to_net):\n",
    "        params = {k: v for k, v in from_net.state_dict().items() if k in self.keys}\n",
    "        to_net.load_state_dict(params, strict=False)\n",
    "    \n",
    "    def save(self, model_path):\n",
    "        torch.save(self.master_net.state_dict(), model_path)\n",
    "    \n",
    "    def load(self, model_path):\n",
    "        self.master_net.load_state_dict(torch.load(model_path))\n",
    "    \n",
    "    def meta_test(self):\n",
    "        \n",
    "        meta_test_task_loader = TaskLoader(\n",
    "            OmniglotAugmentedTaskset(\"../data/omniglot_mini/\", meta_train=False, n_class=n_class, n_shot=n_shot))\n",
    "\n",
    "        test_loss, test_acc = [], [] # For logging.\n",
    "        \n",
    "        sleep(0.5)\n",
    "        with tqdm(meta_test_task_loader, desc=\"Meta Test \", ncols=10) as _tqdm:\n",
    "            for meta_test_task in _tqdm:\n",
    "\n",
    "                # copy master model to new branch model\n",
    "                faster_net = OmniglotNet(n_class).to(self.device)\n",
    "                self.copy_params(self.master_net, faster_net)\n",
    "                faster_opt = optim.SGD(faster_net.parameters(), lr=self.lr, momentum=self.momentum)\n",
    "\n",
    "                # make local task data loader\n",
    "                local_task_train_data_loader = meta_test_task[\"train\"]\n",
    "                local_task_test_data_loader = meta_test_task[\"test\"]\n",
    "\n",
    "                # ----------------------------------------------------------------\n",
    "                # meta test task train\n",
    "                # ----------------------------------------------------------------\n",
    "\n",
    "                for epoch in range(n_local_update):\n",
    "                    _train_loss, _train_acc = train(\n",
    "                        faster_net, self.device, local_task_train_data_loader, faster_opt, epoch)\n",
    "                    _tqdm.set_postfix(OrderedDict(\n",
    "                        epoch=epoch+1, \n",
    "                        train_loss=\"{:.3f}\".format(_train_loss), \n",
    "                        train_acc=\"{:.3f}\".format(_train_acc)))\n",
    "                # ----------------------------------------------------------------\n",
    "                # meta test task test\n",
    "                # ----------------------------------------------------------------\n",
    "\n",
    "                _test_loss, _test_acc = test(faster_net, self.device, local_task_test_data_loader)\n",
    "                test_loss.append(_test_loss)\n",
    "                test_acc.append(_test_acc)\n",
    "        \n",
    "        return np.mean(test_loss), np.mean(test_acc)\n",
    "\n",
    "    \n",
    "    def meta_train(self):\n",
    "        \n",
    "        meta_train_task_loader = TaskLoader(\n",
    "            OmniglotAugmentedTaskset(\"../data/omniglot_mini/\", meta_train=True, n_class=n_class, n_shot=n_shot))\n",
    "    \n",
    "        meta_grads = []\n",
    "        \n",
    "        test_loss, test_acc = [], [] # For logging.\n",
    "        \n",
    "        sleep(0.5)\n",
    "        with tqdm(meta_train_task_loader, desc=\"Meta Train\", ncols=10) as _tqdm:\n",
    "            for meta_train_task in _tqdm:\n",
    "                \n",
    "                # copy master model to new branch model\n",
    "                faster_net = OmniglotNet(n_class).to(self.device)\n",
    "                faster_net.forward = NotImplementedError # goodbye!\n",
    "                self.copy_params(self.master_net, faster_net)\n",
    "\n",
    "                # faster_params = OrderedDict((name, param) for (name, param) in faster_net.named_parameters())\n",
    "                master_params = OrderedDict((name, param) for (name, param) in self.master_net.named_parameters())\n",
    "\n",
    "                # make local task data loader\n",
    "                local_task_train_data_loader = meta_train_task[\"train\"]\n",
    "                local_task_test_data_loader = meta_train_task[\"test\"]\n",
    "\n",
    "                # ----------------------------------------------------------------\n",
    "                # meta train task train\n",
    "                # ----------------------------------------------------------------\n",
    "                first_train_for_this_task = True\n",
    "                for epoch in range(n_local_update):\n",
    "                    _train_loss = 0 # For tqdm.\n",
    "                    _train_acc = 0 # For tqdm.\n",
    "                    \n",
    "                    for data, target in local_task_train_data_loader:\n",
    "                        data, target = data.to(self.device), target.to(self.device)\n",
    "                        \n",
    "                        if first_train_for_this_task:\n",
    "                            # manual predict\n",
    "                            output = self.master_net(data)\n",
    "                            loss = F.nll_loss(output, target)\n",
    "                            pred = output.max(1, keepdim=True)[1]\n",
    "                            \n",
    "                            _train_loss += loss\n",
    "                            _train_acc += pred.eq(target.view_as(pred)).sum().item()\n",
    "                            \n",
    "                            grads = torch.autograd.grad(loss, self.master_net.parameters(), create_graph=True)\n",
    "\n",
    "                            faster_params = OrderedDict(\n",
    "                                (name, param - self.lr*grad)\n",
    "                                for ((name, param), grad) in zip(master_params.items(), grads))\n",
    "\n",
    "                            first_train_for_this_task = False\n",
    "                                \n",
    "                        else:\n",
    "                            # manual predict\n",
    "                            output = faster_net.manual_forward(data, faster_params)\n",
    "                            loss = F.nll_loss(output, target)\n",
    "                            pred = output.max(1, keepdim=True)[1]\n",
    "                            \n",
    "                            _train_loss += loss\n",
    "                            _train_acc += pred.eq(target.view_as(pred)).sum().item()\n",
    "                                                        \n",
    "                            grads = torch.autograd.grad(loss, faster_params.values(), create_graph=True)\n",
    "\n",
    "                            faster_params = OrderedDict(\n",
    "                                (name, param - self.lr*grad)\n",
    "                                for ((name, param), grad) in zip(faster_params.items(), grads))\n",
    "\n",
    "                    _train_loss /= len(local_task_train_data_loader.dataset)\n",
    "                    _train_acc /= len(local_task_train_data_loader.dataset)\n",
    "                    \n",
    "                    _tqdm.set_postfix(OrderedDict(\n",
    "                        epoch=epoch+1, \n",
    "                        train_loss=\"{:.3f}\".format(_train_loss), \n",
    "                        train_acc=\"{:.3f}\".format(_train_acc)))\n",
    "                \n",
    "                # ----------------------------------------------------------------\n",
    "                # meta train task test\n",
    "                # ----------------------------------------------------------------\n",
    "                \n",
    "                _test_loss = 0 # For logging.\n",
    "                _test_acc = 0 # For logging.\n",
    "                \n",
    "                for data, target in local_task_test_data_loader:\n",
    "                    data, target = data.to(self.device), target.to(self.device)\n",
    "\n",
    "                    output = faster_net.manual_forward(data, faster_params)\n",
    "                    loss = F.nll_loss(output, target) # test_loss\n",
    "\n",
    "                    # differentiates test_loss by master_net params\n",
    "                    grads = torch.autograd.grad(loss, self.master_net.parameters(), retain_graph=True)\n",
    "                    grads = {name:g for ((name, _), g) in zip(faster_net.named_parameters(), grads)}\n",
    "                    meta_grads.append(grads)\n",
    "\n",
    "                    pred = output.max(1, keepdim=True)[1]\n",
    "                    acc = pred.eq(target.view_as(pred)).sum()\n",
    "                    \n",
    "                    _test_loss += loss.item()\n",
    "                    _test_acc += acc.item()\n",
    "                \n",
    "                _test_loss /= len(local_task_test_data_loader.dataset)\n",
    "                _test_acc /= len(local_task_test_data_loader.dataset)  \n",
    "                test_loss.append(_test_loss)\n",
    "                test_acc.append(_test_acc)\n",
    "        \n",
    "        # ----------------------------------------------------------------\n",
    "        # end all tasks\n",
    "        # ----------------------------------------------------------------\n",
    "        \n",
    "        # ----------------------------------------------------------------\n",
    "        # meta update\n",
    "        # ----------------------------------------------------------------\n",
    "        \n",
    "        meta_grads = {k: sum(grads[k] for grads in meta_grads) for k in meta_grads[0].keys()}\n",
    "        \n",
    "        # using data,target from somewhere\n",
    "        dumy_output = self.master_net(data)\n",
    "        dumy_loss = F.nll_loss(dumy_output, target)\n",
    "        \n",
    "        # after dumy_loss.backward, rewrite grads\n",
    "        self.master_opt.zero_grad()\n",
    "        dumy_loss.backward(retain_graph=True)\n",
    "\n",
    "        hooks = []\n",
    "        for (k,v) in self.master_net.named_parameters():\n",
    "            def get_closure():\n",
    "                key = k\n",
    "                def replace_grad(grad):\n",
    "                    return meta_grads[key]\n",
    "                return replace_grad\n",
    "            hooks.append(v.register_hook(get_closure()))\n",
    "\n",
    "        # Compute grads for current step, replace with summed gradients as defined by hook\n",
    "        self.master_opt.zero_grad()\n",
    "        dumy_loss.backward()\n",
    "\n",
    "        # Update the net parameters with the accumulated gradient according to optimizer\n",
    "        self.master_opt.step()\n",
    "\n",
    "        # Remove the hooks before next training phase\n",
    "        for h in hooks:\n",
    "            h.remove()\n",
    "\n",
    "        return np.mean(test_loss), np.mean(test_acc)"
   ]
  },
  {
   "cell_type": "code",
   "execution_count": null,
   "metadata": {
    "scrolled": false
   },
   "outputs": [
    {
     "name": "stderr",
     "output_type": "stream",
     "text": [
      "\r",
      "Meta Test "
     ]
    }
   ],
   "source": [
    "meta_learner = MetaLearner()\n",
    "\n",
    "# see normal few-shot learning\n",
    "for _ in range(1):\n",
    "    test_loss, test_acc = meta_learner.meta_test()\n",
    "    print(\"# {}  (meta-test-task) test_loss: {:.6f}, test_acc: {:.6f}\".format(\n",
    "        0, test_loss, test_acc))\n",
    "\n",
    "for epoch in range(10):\n",
    "    \n",
    "    train_loss, train_acc = meta_learner.meta_train()\n",
    "    test_loss, test_acc = meta_learner.meta_test()\n",
    "    \n",
    "    print(\"# {} (meta-train-task) test_loss: {:.6f}, test_acc: {:.6f}\".format(\n",
    "        epoch+1, train_loss, train_acc))    \n",
    "    print(\"# {}  (meta-test-task) test_loss: {:.6f}, test_acc: {:.6f}\".format(\n",
    "        epoch+1, test_loss, test_acc))\n",
    "    \n",
    "    model_path = \"../model/model-epoch_{:05}-train_loss_{:0.3f}-train_acc_{:0.3f}-test_loss_{:0.3f}-test_acc_{:0.3f}.pt\".format(\n",
    "        epoch, train_loss, train_acc, test_loss, test_acc)\n",
    "    \n",
    "    meta_learner.save(model_path)\n",
    "#     meta_learner.load(model_path)"
   ]
  },
  {
   "cell_type": "code",
   "execution_count": null,
   "metadata": {},
   "outputs": [],
   "source": [
    "meta_test_hist = np.array([meta_test_task_test_loss, meta_test_task_test_acc])\n",
    "meta_test_hist.shape\n",
    "np.save(\"meta-test-hist.npy\", meta_test_hist)"
   ]
  },
  {
   "cell_type": "code",
   "execution_count": null,
   "metadata": {},
   "outputs": [],
   "source": []
  },
  {
   "cell_type": "code",
   "execution_count": null,
   "metadata": {},
   "outputs": [],
   "source": []
  }
 ],
 "metadata": {
  "kernelspec": {
   "display_name": "Python 3",
   "language": "python",
   "name": "python3"
  },
  "language_info": {
   "codemirror_mode": {
    "name": "ipython",
    "version": 3
   },
   "file_extension": ".py",
   "mimetype": "text/x-python",
   "name": "python",
   "nbconvert_exporter": "python",
   "pygments_lexer": "ipython3",
   "version": "3.7.3"
  }
 },
 "nbformat": 4,
 "nbformat_minor": 2
}
