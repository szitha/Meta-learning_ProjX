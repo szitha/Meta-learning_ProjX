{
 "cells": [
  {
   "cell_type": "markdown",
   "metadata": {},
   "source": [
    "### meta-test"
   ]
  },
  {
   "cell_type": "code",
   "execution_count": null,
   "metadata": {
    "scrolled": false
   },
   "outputs": [],
   "source": [
    "import os\n",
    "import matplotlib.pyplot as plt\n",
    "\n",
    "hist = sorted(os.listdir(\"../model\"))\n",
    "hist = [hi[:-3] for hi in hist] # remove '.pt'\n",
    "hist = [hi.split(\"-\") for hi in hist]\n",
    "\n",
    "train_loss = [hi[2][-5:] for hi in hist]\n",
    "train_acc = [hi[3][-5:] for hi in hist]\n",
    "test_loss = [hi[4][-5:] for hi in hist]\n",
    "test_acc = [hi[5][-5:] for hi in hist]\n",
    "\n",
    "train_loss = [float(s) for s in train_loss]\n",
    "train_acc = [float(s) for s in train_acc]\n",
    "test_loss = [float(s) for s in test_loss]\n",
    "test_acc = [float(s) for s in test_acc]\n",
    "\n",
    "plt.figure(figsize=(20,8))\n",
    "\n",
    "plt.subplot(1,2,1)\n",
    "plt.plot(train_loss, label=\"meta-train-task-test_loss\")\n",
    "plt.plot(test_loss, label=\"meta-test-task-test_loss\")\n",
    "plt.ylabel(\"loss\"); plt.xlabel(\"epochs\"); plt.legend()\n",
    "\n",
    "plt.subplot(1,2,2)\n",
    "plt.plot(train_acc, label=\"meta-train-task-test_acc\")\n",
    "plt.plot(test_acc, label=\"meta-test-task-test_acc\")\n",
    "plt.ylabel(\"acc\"); plt.xlabel(\"epochs\"); plt.legend()\n",
    "\n",
    "# plt.savefig(\"plot_hist.png\")\n",
    "plt.show()"
   ]
  },
  {
   "cell_type": "code",
   "execution_count": 9,
   "metadata": {
    "scrolled": false
   },
   "outputs": [],
   "source": [
    "#plt.figure(figsize=(20,8))\n",
    "\n",
    "#plt.subplot(1,2,1)\n",
    "#plt.plot(train_loss, label=\"meta-train-task-test_loss\")\n",
    "#plt.plot(test_loss, label=\"meta-test-task-test_loss\")\n",
    "#plt.xlim([0, 10000])\n",
    "#plt.ylabel(\"loss\"); plt.xlabel(\"epochs\"); plt.legend()\n",
    "\n",
    "#plt.subplot(1,2,2)\n",
    "#plt.plot(train_acc, label=\"meta-train-task-test_acc\")\n",
    "#plt.plot(test_acc, label=\"meta-test-task-test_acc\")\n",
    "#plt.xlim([0, 10000])\n",
    "#plt.ylabel(\"acc\"); plt.xlabel(\"epochs\"); plt.legend()\n",
    "\n",
    "# plt.savefig(\"plot_hist_bigscale.png\")\n",
    "#plt.show()"
   ]
  },
  {
   "cell_type": "markdown",
   "metadata": {},
   "source": [
    "### meta-test"
   ]
  },
  {
   "cell_type": "code",
   "execution_count": 3,
   "metadata": {},
   "outputs": [
    {
     "ename": "FileNotFoundError",
     "evalue": "[Errno 2] No such file or directory: 'meta-test-hist.npy'",
     "output_type": "error",
     "traceback": [
      "\u001b[0;31m---------------------------------------------------------------------------\u001b[0m",
      "\u001b[0;31mFileNotFoundError\u001b[0m                         Traceback (most recent call last)",
      "\u001b[0;32m<ipython-input-3-a31a2dd8b1e7>\u001b[0m in \u001b[0;36m<module>\u001b[0;34m\u001b[0m\n\u001b[1;32m      4\u001b[0m \u001b[0;31m#del test_acc\u001b[0m\u001b[0;34m\u001b[0m\u001b[0;34m\u001b[0m\u001b[0;34m\u001b[0m\u001b[0m\n\u001b[1;32m      5\u001b[0m \u001b[0;34m\u001b[0m\u001b[0m\n\u001b[0;32m----> 6\u001b[0;31m \u001b[0mmeta_test_hist\u001b[0m \u001b[0;34m=\u001b[0m \u001b[0mnp\u001b[0m\u001b[0;34m.\u001b[0m\u001b[0mload\u001b[0m\u001b[0;34m(\u001b[0m\u001b[0;34m\"meta-test-hist.npy\"\u001b[0m\u001b[0;34m)\u001b[0m\u001b[0;34m\u001b[0m\u001b[0;34m\u001b[0m\u001b[0m\n\u001b[0m\u001b[1;32m      7\u001b[0m \u001b[0mtest_loss\u001b[0m \u001b[0;34m=\u001b[0m \u001b[0mmeta_test_hist\u001b[0m\u001b[0;34m[\u001b[0m\u001b[0;36m0\u001b[0m\u001b[0;34m]\u001b[0m\u001b[0;34m\u001b[0m\u001b[0;34m\u001b[0m\u001b[0m\n\u001b[1;32m      8\u001b[0m \u001b[0mtest_acc\u001b[0m \u001b[0;34m=\u001b[0m \u001b[0mmeta_test_hist\u001b[0m\u001b[0;34m[\u001b[0m\u001b[0;36m1\u001b[0m\u001b[0;34m]\u001b[0m\u001b[0;34m\u001b[0m\u001b[0;34m\u001b[0m\u001b[0m\n",
      "\u001b[0;32m~/anaconda3/envs/simworld/lib/python3.6/site-packages/numpy/lib/npyio.py\u001b[0m in \u001b[0;36mload\u001b[0;34m(file, mmap_mode, allow_pickle, fix_imports, encoding)\u001b[0m\n\u001b[1;32m    426\u001b[0m         \u001b[0mown_fid\u001b[0m \u001b[0;34m=\u001b[0m \u001b[0;32mFalse\u001b[0m\u001b[0;34m\u001b[0m\u001b[0;34m\u001b[0m\u001b[0m\n\u001b[1;32m    427\u001b[0m     \u001b[0;32melse\u001b[0m\u001b[0;34m:\u001b[0m\u001b[0;34m\u001b[0m\u001b[0;34m\u001b[0m\u001b[0m\n\u001b[0;32m--> 428\u001b[0;31m         \u001b[0mfid\u001b[0m \u001b[0;34m=\u001b[0m \u001b[0mopen\u001b[0m\u001b[0;34m(\u001b[0m\u001b[0mos_fspath\u001b[0m\u001b[0;34m(\u001b[0m\u001b[0mfile\u001b[0m\u001b[0;34m)\u001b[0m\u001b[0;34m,\u001b[0m \u001b[0;34m\"rb\"\u001b[0m\u001b[0;34m)\u001b[0m\u001b[0;34m\u001b[0m\u001b[0;34m\u001b[0m\u001b[0m\n\u001b[0m\u001b[1;32m    429\u001b[0m         \u001b[0mown_fid\u001b[0m \u001b[0;34m=\u001b[0m \u001b[0;32mTrue\u001b[0m\u001b[0;34m\u001b[0m\u001b[0;34m\u001b[0m\u001b[0m\n\u001b[1;32m    430\u001b[0m \u001b[0;34m\u001b[0m\u001b[0m\n",
      "\u001b[0;31mFileNotFoundError\u001b[0m: [Errno 2] No such file or directory: 'meta-test-hist.npy'"
     ]
    }
   ],
   "source": [
    "#import numpy as np\n",
    "\n",
    "#del test_loss\n",
    "#del test_acc\n",
    "\n",
    "#meta_test_hist = np.load(\"meta-test-hist.npy\")\n",
    "#test_loss = meta_test_hist[0]\n",
    "#test_acc = meta_test_hist[1]\n",
    "#plt.figure(figsize=(20,8))\n",
    "\n",
    "#plt.subplot(1,2,1)\n",
    "#plt.plot(train_loss, label=\"meta-train-task-test_loss\")\n",
    "#plt.plot(test_loss, label=\"meta-test-task-test_loss\")\n",
    "#plt.ylabel(\"loss\"); plt.xlabel(\"epochs\"); plt.legend()\n",
    "\n",
    "#plt.subplot(1,2,2)\n",
    "#plt.plot(train_acc, label=\"meta-train-task-test_acc\")\n",
    "#plt.plot(test_acc, label=\"meta-test-task-test_acc\")\n",
    "#plt.ylabel(\"acc\"); plt.xlabel(\"epochs\"); plt.legend()\n",
    "\n",
    "#plt.savefig(\"plot_hist.png\")\n",
    "#plt.show()"
   ]
  },
  {
   "cell_type": "code",
   "execution_count": 14,
   "metadata": {},
   "outputs": [
    {
     "data": {
      "text/plain": [
       "1.006"
      ]
     },
     "execution_count": 14,
     "metadata": {},
     "output_type": "execute_result"
    }
   ],
   "source": [
    "np.max(test_loss)"
   ]
  },
  {
   "cell_type": "code",
   "execution_count": 12,
   "metadata": {},
   "outputs": [],
   "source": [
    "import numpy as np"
   ]
  },
  {
   "cell_type": "code",
   "execution_count": null,
   "metadata": {},
   "outputs": [],
   "source": []
  }
 ],
 "metadata": {
  "kernelspec": {
   "display_name": "Python 3",
   "language": "python",
   "name": "python3"
  },
  "language_info": {
   "codemirror_mode": {
    "name": "ipython",
    "version": 3
   },
   "file_extension": ".py",
   "mimetype": "text/x-python",
   "name": "python",
   "nbconvert_exporter": "python",
   "pygments_lexer": "ipython3",
   "version": "3.6.9"
  }
 },
 "nbformat": 4,
 "nbformat_minor": 2
}
