{
 "cells": [
  {
   "cell_type": "code",
   "execution_count": 1,
   "metadata": {},
   "outputs": [
    {
     "ename": "ModuleNotFoundError",
     "evalue": "No module named 'cv2'",
     "output_type": "error",
     "traceback": [
      "\u001b[0;31m---------------------------------------------------------------------------\u001b[0m",
      "\u001b[0;31mModuleNotFoundError\u001b[0m                       Traceback (most recent call last)",
      "\u001b[0;32m<ipython-input-1-1272a5d28b65>\u001b[0m in \u001b[0;36m<module>\u001b[0;34m\u001b[0m\n\u001b[1;32m      1\u001b[0m \u001b[0;32mimport\u001b[0m \u001b[0mnumpy\u001b[0m \u001b[0;32mas\u001b[0m \u001b[0mnp\u001b[0m\u001b[0;34m\u001b[0m\u001b[0;34m\u001b[0m\u001b[0m\n\u001b[1;32m      2\u001b[0m \u001b[0;32mimport\u001b[0m \u001b[0mmatplotlib\u001b[0m\u001b[0;34m.\u001b[0m\u001b[0mpyplot\u001b[0m \u001b[0;32mas\u001b[0m \u001b[0mplt\u001b[0m\u001b[0;34m\u001b[0m\u001b[0;34m\u001b[0m\u001b[0m\n\u001b[0;32m----> 3\u001b[0;31m \u001b[0;32mimport\u001b[0m \u001b[0mcv2\u001b[0m\u001b[0;34m\u001b[0m\u001b[0;34m\u001b[0m\u001b[0m\n\u001b[0m\u001b[1;32m      4\u001b[0m \u001b[0;32mimport\u001b[0m \u001b[0mos\u001b[0m\u001b[0;34m\u001b[0m\u001b[0;34m\u001b[0m\u001b[0m\n\u001b[1;32m      5\u001b[0m \u001b[0;32mimport\u001b[0m \u001b[0mtqdm\u001b[0m\u001b[0;34m\u001b[0m\u001b[0;34m\u001b[0m\u001b[0m\n",
      "\u001b[0;31mModuleNotFoundError\u001b[0m: No module named 'cv2'"
     ]
    }
   ],
   "source": [
    "import numpy as np\n",
    "import matplotlib.pyplot as plt\n",
    "import cv2\n",
    "import os\n",
    "import tqdm"
   ]
  },
  {
   "cell_type": "code",
   "execution_count": 2,
   "metadata": {
    "scrolled": false
   },
   "outputs": [
    {
     "name": "stdout",
     "output_type": "stream",
     "text": [
      "(105, 105)\n",
      "(28, 28)\n"
     ]
    },
    {
     "data": {
      "image/png": "[encoded data removed]",
      "text/plain": [
       "<Figure size 432x288 with 2 Axes>"
      ]
     },
     "metadata": {},
     "output_type": "display_data"
    }
   ],
   "source": [
    "x = cv2.imread(\"./omniglot/images_background/Japanese_(hiragana)/character01/0488_01.png\", 0)\n",
    "plt.subplot(1,2,1); plt.imshow(x); print(x.shape)\n",
    "x = cv2.resize(x, (28,28))\n",
    "plt.subplot(1,2,2); plt.imshow(x); print(x.shape)"
   ]
  },
  {
   "cell_type": "code",
   "execution_count": 3,
   "metadata": {},
   "outputs": [
    {
     "name": "stdout",
     "output_type": "stream",
     "text": [
      "(28, 28)\n"
     ]
    },
    {
     "data": {
      "image/png": "[encoded data removed]",
      "text/plain": [
       "<Figure size 432x288 with 1 Axes>"
      ]
     },
     "metadata": {},
     "output_type": "display_data"
    }
   ],
   "source": [
    "!mkdir -p ./temp/temp\n",
    "cv2.imwrite(\"./temp/temp/a.png\", x) # 二値画像で保存するためcv2を使う\n",
    "x = plt.imread(\"./temp/temp/a.png\")\n",
    "print(x.shape); plt.imshow(x); plt.show()"
   ]
  },
  {
   "cell_type": "code",
   "execution_count": 5,
   "metadata": {},
   "outputs": [],
   "source": [
    "!rm omniglot/.gitkeep"
   ]
  },
  {
   "cell_type": "markdown",
   "metadata": {},
   "source": [
    "5秒ほどかかりました(opencv早い…)"
   ]
  },
  {
   "cell_type": "code",
   "execution_count": 4,
   "metadata": {
    "scrolled": false
   },
   "outputs": [],
   "source": [
    "path_from = \"./omniglot/\"\n",
    "path_to = \"./omniglot_mini/\"\n",
    "\n",
    "os.mkdir(path_to)\n",
    "# ['images_background', 'images_evaluation']\n",
    "D0 = sorted(os.listdir(path_from))\n",
    "for d0 in D0:\n",
    "    \n",
    "    os.mkdir(os.path.join(path_to,d0))\n",
    "    # ['Alphabet_of_the_Magi', 'Anglo-Saxon_Futhorc', ...\n",
    "    D1 = sorted(os.listdir(os.path.join(path_from,d0)))\n",
    "    for d1 in D1:\n",
    "        \n",
    "        os.mkdir(os.path.join(path_to,d0,d1))\n",
    "        # ['character01', 'character02', ...\n",
    "        D2 = sorted(os.listdir(os.path.join(path_from,d0,d1)))\n",
    "        for d2 in D2:\n",
    "            \n",
    "            os.mkdir(os.path.join(path_to,d0,d1,d2))\n",
    "            # ['0709_01.png', '0709_02.png', ...\n",
    "            D3 = sorted(os.listdir(os.path.join(path_from,d0,d1,d2)))\n",
    "            for d3 in D3:\n",
    "                \n",
    "                x = cv2.imread(os.path.join(path_from,d0,d1,d2,d3), 0)\n",
    "                x = cv2.resize(x, (28,28))\n",
    "                cv2.imwrite(os.path.join(path_to,d0,d1,d2,d3), x)"
   ]
  },
  {
   "cell_type": "code",
   "execution_count": 5,
   "metadata": {},
   "outputs": [],
   "source": [
    "!touch omniglot_mini/.gitkeep"
   ]
  }
 ],
 "metadata": {
  "kernelspec": {
   "display_name": "Python 3",
   "language": "python",
   "name": "python3"
  },
  "language_info": {
   "codemirror_mode": {
    "name": "ipython",
    "version": 3
   },
   "file_extension": ".py",
   "mimetype": "text/x-python",
   "name": "python",
   "nbconvert_exporter": "python",
   "pygments_lexer": "ipython3",
   "version": "3.8.3"
  }
 },
 "nbformat": 4,
 "nbformat_minor": 2
}
